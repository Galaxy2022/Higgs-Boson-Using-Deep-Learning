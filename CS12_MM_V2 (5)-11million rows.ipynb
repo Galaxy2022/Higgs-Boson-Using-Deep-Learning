{
  "nbformat": 4,
  "nbformat_minor": 0,
  "metadata": {
    "language_info": {
      "codemirror_mode": {
        "name": "ipython",
        "version": 3
      },
      "file_extension": ".py",
      "mimetype": "text/x-python",
      "name": "python",
      "nbconvert_exporter": "python",
      "pygments_lexer": "ipython3",
      "version": "3.8.5-final"
    },
    "orig_nbformat": 2,
    "kernelspec": {
      "name": "python3",
      "display_name": "Python 3",
      "language": "python"
    },
    "colab": {
      "name": "CS12_MM_V2.ipynb",
      "provenance": [],
      "collapsed_sections": [],
      "toc_visible": true,
      "machine_shape": "hm"
    },
    "accelerator": "GPU"
  },
  "cells": [
    {
      "cell_type": "code",
      "metadata": {
        "colab": {
          "base_uri": "https://localhost:8080/"
        },
        "id": "tQRYewQCsBnT",
        "outputId": "08f28901-ddbc-43df-e37c-06699b64b699"
      },
      "source": [
        "from google.colab import drive\n",
        "drive.mount('/content/drive')"
      ],
      "execution_count": 55,
      "outputs": [
        {
          "output_type": "stream",
          "text": [
            "Drive already mounted at /content/drive; to attempt to forcibly remount, call drive.mount(\"/content/drive\", force_remount=True).\n"
          ],
          "name": "stdout"
        }
      ]
    },
    {
      "cell_type": "code",
      "metadata": {
        "id": "8iJtQAGS7iq1"
      },
      "source": [
        "from tensorflow.keras.callbacks import ModelCheckpoint, ReduceLROnPlateau, EarlyStopping\n",
        "from tensorflow.keras.layers import Input, LSTM, Dense, Concatenate,GRU,Dropout,LeakyReLU\n",
        "from tensorflow.keras.models import Model\n",
        "#from tensorflow.keras.callbacks import EarlyStopping\n",
        "#from tensorflow.io import FixedLenFeature\n",
        "from tensorflow import keras\n",
        "# from tensorflow.keras import layers\n",
        "# from tensorflow.keras import callbacks\n",
        "import seaborn as sns\n",
        "import matplotlib.pyplot as plt\n",
        "from sklearn.model_selection import StratifiedShuffleSplit\n",
        "#from sklearn.preprocessing import LabelEncoder,OneHotEncoder, normalize\n",
        "import pandas as pd\n",
        "import numpy as np\n",
        "import gzip"
      ],
      "execution_count": 56,
      "outputs": []
    },
    {
      "cell_type": "code",
      "metadata": {
        "id": "ECY7GrqMo64F"
      },
      "source": [
        ""
      ],
      "execution_count": 4,
      "outputs": []
    },
    {
      "cell_type": "code",
      "metadata": {
        "colab": {
          "base_uri": "https://localhost:8080/"
        },
        "id": "qP-Qav0v7ioV",
        "outputId": "de5aee05-0215-4014-8b3e-d5abebac1c6e"
      },
      "source": [
        "import tensorflow as tf\n",
        "print(\"Tensorflow version \" + tf.__version__)"
      ],
      "execution_count": 57,
      "outputs": [
        {
          "output_type": "stream",
          "text": [
            "Tensorflow version 2.4.1\n"
          ],
          "name": "stdout"
        }
      ]
    },
    {
      "cell_type": "code",
      "metadata": {
        "id": "jPN2xHKZ_IyB"
      },
      "source": [
        "col_names = ['class_label','lepton_pT','lepton_eta','lepton_phi','missing_energy_magnitude','missing_energy_phi','jet_1_pt','jet_1_eta','jet_1_phi','jet_1_b-tag','jet_2_pt','jet_2_eta','jet_2_phi','jet_2_b-tag','jet_3_pt','jet_3_eta','jet_3_phi','jet_3_b-tag','jet_4_pt','jet_4_eta','jet_4_phi','jet_4_b-tag','m_jj','m_jjj','m_lv','m_jlv','m_bb','m_wbb','m_wwbb']\n",
        "data = pd.read_csv(r\"/content/drive/MyDrive/case study 12/HIGGS.csv.gz\", header=None, names=col_names, dtype=np.float32, compression='gzip')"
      ],
      "execution_count": 58,
      "outputs": []
    },
    {
      "cell_type": "code",
      "metadata": {
        "id": "bhENQkBtZiLr"
      },
      "source": [
        "#data=pd.read_csv(\"/content/drive/MyDrive/case study 12/HIGGSsmall.csv\")"
      ],
      "execution_count": 7,
      "outputs": []
    },
    {
      "cell_type": "code",
      "metadata": {
        "id": "kgjuWrUucftG"
      },
      "source": [
        ""
      ],
      "execution_count": 77,
      "outputs": []
    },
    {
      "cell_type": "code",
      "metadata": {
        "id": "bWtDlQTziRgb"
      },
      "source": [
        "data2=data[:]"
      ],
      "execution_count": 59,
      "outputs": []
    },
    {
      "cell_type": "code",
      "metadata": {
        "id": "PIC2cSanJud4"
      },
      "source": [
        "np.random.shuffle(data2.values)"
      ],
      "execution_count": 60,
      "outputs": []
    },
    {
      "cell_type": "code",
      "metadata": {
        "colab": {
          "base_uri": "https://localhost:8080/",
          "height": 385
        },
        "id": "5VanNHTB_i2H",
        "outputId": "4c889ca5-9a73-4138-f7d9-c542dd34fb82"
      },
      "source": [
        "data2.head(10)"
      ],
      "execution_count": 61,
      "outputs": [
        {
          "output_type": "execute_result",
          "data": {
            "text/html": [
              "<div>\n",
              "<style scoped>\n",
              "    .dataframe tbody tr th:only-of-type {\n",
              "        vertical-align: middle;\n",
              "    }\n",
              "\n",
              "    .dataframe tbody tr th {\n",
              "        vertical-align: top;\n",
              "    }\n",
              "\n",
              "    .dataframe thead th {\n",
              "        text-align: right;\n",
              "    }\n",
              "</style>\n",
              "<table border=\"1\" class=\"dataframe\">\n",
              "  <thead>\n",
              "    <tr style=\"text-align: right;\">\n",
              "      <th></th>\n",
              "      <th>class_label</th>\n",
              "      <th>lepton_pT</th>\n",
              "      <th>lepton_eta</th>\n",
              "      <th>lepton_phi</th>\n",
              "      <th>missing_energy_magnitude</th>\n",
              "      <th>missing_energy_phi</th>\n",
              "      <th>jet_1_pt</th>\n",
              "      <th>jet_1_eta</th>\n",
              "      <th>jet_1_phi</th>\n",
              "      <th>jet_1_b-tag</th>\n",
              "      <th>jet_2_pt</th>\n",
              "      <th>jet_2_eta</th>\n",
              "      <th>jet_2_phi</th>\n",
              "      <th>jet_2_b-tag</th>\n",
              "      <th>jet_3_pt</th>\n",
              "      <th>jet_3_eta</th>\n",
              "      <th>jet_3_phi</th>\n",
              "      <th>jet_3_b-tag</th>\n",
              "      <th>jet_4_pt</th>\n",
              "      <th>jet_4_eta</th>\n",
              "      <th>jet_4_phi</th>\n",
              "      <th>jet_4_b-tag</th>\n",
              "      <th>m_jj</th>\n",
              "      <th>m_jjj</th>\n",
              "      <th>m_lv</th>\n",
              "      <th>m_jlv</th>\n",
              "      <th>m_bb</th>\n",
              "      <th>m_wbb</th>\n",
              "      <th>m_wwbb</th>\n",
              "    </tr>\n",
              "  </thead>\n",
              "  <tbody>\n",
              "    <tr>\n",
              "      <th>0</th>\n",
              "      <td>1.0</td>\n",
              "      <td>3.937258</td>\n",
              "      <td>-0.357501</td>\n",
              "      <td>0.217922</td>\n",
              "      <td>0.318690</td>\n",
              "      <td>0.674522</td>\n",
              "      <td>2.171000</td>\n",
              "      <td>1.707131</td>\n",
              "      <td>-1.574925</td>\n",
              "      <td>0.000000</td>\n",
              "      <td>1.768692</td>\n",
              "      <td>-1.488084</td>\n",
              "      <td>-0.821354</td>\n",
              "      <td>2.214872</td>\n",
              "      <td>1.235145</td>\n",
              "      <td>-0.176415</td>\n",
              "      <td>1.211447</td>\n",
              "      <td>2.548224</td>\n",
              "      <td>1.780036</td>\n",
              "      <td>0.204414</td>\n",
              "      <td>0.336670</td>\n",
              "      <td>0.000000</td>\n",
              "      <td>0.925134</td>\n",
              "      <td>1.044219</td>\n",
              "      <td>0.997165</td>\n",
              "      <td>2.035658</td>\n",
              "      <td>1.892444</td>\n",
              "      <td>1.729419</td>\n",
              "      <td>1.589167</td>\n",
              "    </tr>\n",
              "    <tr>\n",
              "      <th>1</th>\n",
              "      <td>0.0</td>\n",
              "      <td>1.012589</td>\n",
              "      <td>0.857038</td>\n",
              "      <td>0.342766</td>\n",
              "      <td>0.531022</td>\n",
              "      <td>-0.300299</td>\n",
              "      <td>0.779394</td>\n",
              "      <td>1.168446</td>\n",
              "      <td>-0.876966</td>\n",
              "      <td>0.000000</td>\n",
              "      <td>1.006347</td>\n",
              "      <td>-0.322436</td>\n",
              "      <td>1.167261</td>\n",
              "      <td>2.214872</td>\n",
              "      <td>0.864408</td>\n",
              "      <td>0.616411</td>\n",
              "      <td>1.513778</td>\n",
              "      <td>2.548224</td>\n",
              "      <td>1.232127</td>\n",
              "      <td>1.884218</td>\n",
              "      <td>-0.713329</td>\n",
              "      <td>0.000000</td>\n",
              "      <td>0.877970</td>\n",
              "      <td>1.034208</td>\n",
              "      <td>0.986979</td>\n",
              "      <td>1.280738</td>\n",
              "      <td>0.604004</td>\n",
              "      <td>1.139072</td>\n",
              "      <td>1.007431</td>\n",
              "    </tr>\n",
              "    <tr>\n",
              "      <th>2</th>\n",
              "      <td>0.0</td>\n",
              "      <td>0.777972</td>\n",
              "      <td>0.777173</td>\n",
              "      <td>-0.468544</td>\n",
              "      <td>0.527515</td>\n",
              "      <td>-1.586283</td>\n",
              "      <td>1.395361</td>\n",
              "      <td>1.047638</td>\n",
              "      <td>-0.967329</td>\n",
              "      <td>2.173076</td>\n",
              "      <td>1.788333</td>\n",
              "      <td>1.281302</td>\n",
              "      <td>0.962529</td>\n",
              "      <td>0.000000</td>\n",
              "      <td>0.740244</td>\n",
              "      <td>0.854896</td>\n",
              "      <td>0.475868</td>\n",
              "      <td>0.000000</td>\n",
              "      <td>0.513833</td>\n",
              "      <td>-0.470173</td>\n",
              "      <td>-0.918646</td>\n",
              "      <td>0.000000</td>\n",
              "      <td>0.856452</td>\n",
              "      <td>1.114653</td>\n",
              "      <td>0.988671</td>\n",
              "      <td>0.546121</td>\n",
              "      <td>0.647029</td>\n",
              "      <td>0.661975</td>\n",
              "      <td>0.624486</td>\n",
              "    </tr>\n",
              "    <tr>\n",
              "      <th>3</th>\n",
              "      <td>0.0</td>\n",
              "      <td>0.523589</td>\n",
              "      <td>0.351549</td>\n",
              "      <td>1.295463</td>\n",
              "      <td>3.095207</td>\n",
              "      <td>-1.571370</td>\n",
              "      <td>2.083423</td>\n",
              "      <td>-0.300065</td>\n",
              "      <td>-0.071457</td>\n",
              "      <td>0.000000</td>\n",
              "      <td>1.090576</td>\n",
              "      <td>-0.568193</td>\n",
              "      <td>1.698233</td>\n",
              "      <td>2.214872</td>\n",
              "      <td>2.105349</td>\n",
              "      <td>-0.262889</td>\n",
              "      <td>0.419840</td>\n",
              "      <td>2.548224</td>\n",
              "      <td>0.549370</td>\n",
              "      <td>-1.880143</td>\n",
              "      <td>-0.916427</td>\n",
              "      <td>0.000000</td>\n",
              "      <td>2.178429</td>\n",
              "      <td>1.576881</td>\n",
              "      <td>0.988934</td>\n",
              "      <td>0.687118</td>\n",
              "      <td>1.490392</td>\n",
              "      <td>1.353209</td>\n",
              "      <td>1.449221</td>\n",
              "    </tr>\n",
              "    <tr>\n",
              "      <th>4</th>\n",
              "      <td>0.0</td>\n",
              "      <td>1.347130</td>\n",
              "      <td>-0.773385</td>\n",
              "      <td>0.635733</td>\n",
              "      <td>0.923515</td>\n",
              "      <td>0.520972</td>\n",
              "      <td>1.348275</td>\n",
              "      <td>1.789320</td>\n",
              "      <td>1.459277</td>\n",
              "      <td>0.000000</td>\n",
              "      <td>0.773299</td>\n",
              "      <td>1.304615</td>\n",
              "      <td>-1.277979</td>\n",
              "      <td>0.000000</td>\n",
              "      <td>1.107293</td>\n",
              "      <td>0.737474</td>\n",
              "      <td>-0.494467</td>\n",
              "      <td>2.548224</td>\n",
              "      <td>0.925677</td>\n",
              "      <td>-0.728348</td>\n",
              "      <td>-0.770485</td>\n",
              "      <td>3.101961</td>\n",
              "      <td>1.444574</td>\n",
              "      <td>1.466996</td>\n",
              "      <td>0.991051</td>\n",
              "      <td>0.848341</td>\n",
              "      <td>0.756146</td>\n",
              "      <td>1.285646</td>\n",
              "      <td>1.377754</td>\n",
              "    </tr>\n",
              "    <tr>\n",
              "      <th>5</th>\n",
              "      <td>1.0</td>\n",
              "      <td>0.943412</td>\n",
              "      <td>1.108322</td>\n",
              "      <td>-0.599494</td>\n",
              "      <td>0.591015</td>\n",
              "      <td>-0.690387</td>\n",
              "      <td>1.773974</td>\n",
              "      <td>-0.349577</td>\n",
              "      <td>0.322807</td>\n",
              "      <td>0.000000</td>\n",
              "      <td>1.685218</td>\n",
              "      <td>1.169594</td>\n",
              "      <td>-1.112085</td>\n",
              "      <td>0.000000</td>\n",
              "      <td>1.816452</td>\n",
              "      <td>0.298734</td>\n",
              "      <td>0.810374</td>\n",
              "      <td>2.548224</td>\n",
              "      <td>1.531274</td>\n",
              "      <td>1.516110</td>\n",
              "      <td>-1.395871</td>\n",
              "      <td>0.000000</td>\n",
              "      <td>0.841734</td>\n",
              "      <td>0.476941</td>\n",
              "      <td>0.984060</td>\n",
              "      <td>1.099444</td>\n",
              "      <td>0.587153</td>\n",
              "      <td>1.018512</td>\n",
              "      <td>0.924453</td>\n",
              "    </tr>\n",
              "    <tr>\n",
              "      <th>6</th>\n",
              "      <td>0.0</td>\n",
              "      <td>0.277991</td>\n",
              "      <td>0.291162</td>\n",
              "      <td>0.120267</td>\n",
              "      <td>1.205522</td>\n",
              "      <td>-0.887325</td>\n",
              "      <td>0.766752</td>\n",
              "      <td>0.246542</td>\n",
              "      <td>1.429895</td>\n",
              "      <td>2.173076</td>\n",
              "      <td>0.636568</td>\n",
              "      <td>0.271074</td>\n",
              "      <td>0.690663</td>\n",
              "      <td>0.000000</td>\n",
              "      <td>0.853520</td>\n",
              "      <td>0.453477</td>\n",
              "      <td>-0.237069</td>\n",
              "      <td>0.000000</td>\n",
              "      <td>0.853142</td>\n",
              "      <td>-0.774153</td>\n",
              "      <td>0.913779</td>\n",
              "      <td>0.000000</td>\n",
              "      <td>0.847990</td>\n",
              "      <td>0.939048</td>\n",
              "      <td>0.993069</td>\n",
              "      <td>0.813782</td>\n",
              "      <td>0.605274</td>\n",
              "      <td>0.804355</td>\n",
              "      <td>0.778393</td>\n",
              "    </tr>\n",
              "    <tr>\n",
              "      <th>7</th>\n",
              "      <td>0.0</td>\n",
              "      <td>1.880784</td>\n",
              "      <td>0.098317</td>\n",
              "      <td>1.341516</td>\n",
              "      <td>2.222378</td>\n",
              "      <td>0.790068</td>\n",
              "      <td>0.447593</td>\n",
              "      <td>0.638673</td>\n",
              "      <td>0.113253</td>\n",
              "      <td>2.173076</td>\n",
              "      <td>0.662126</td>\n",
              "      <td>-0.621619</td>\n",
              "      <td>-1.461628</td>\n",
              "      <td>0.000000</td>\n",
              "      <td>0.657351</td>\n",
              "      <td>0.290542</td>\n",
              "      <td>-0.309739</td>\n",
              "      <td>2.548224</td>\n",
              "      <td>0.639431</td>\n",
              "      <td>-0.253639</td>\n",
              "      <td>0.443768</td>\n",
              "      <td>0.000000</td>\n",
              "      <td>0.850673</td>\n",
              "      <td>0.828435</td>\n",
              "      <td>1.348972</td>\n",
              "      <td>1.041448</td>\n",
              "      <td>0.274899</td>\n",
              "      <td>0.788867</td>\n",
              "      <td>0.747836</td>\n",
              "    </tr>\n",
              "    <tr>\n",
              "      <th>8</th>\n",
              "      <td>0.0</td>\n",
              "      <td>0.618754</td>\n",
              "      <td>-1.132780</td>\n",
              "      <td>0.345540</td>\n",
              "      <td>0.777720</td>\n",
              "      <td>1.466548</td>\n",
              "      <td>0.497519</td>\n",
              "      <td>-0.816965</td>\n",
              "      <td>-0.232779</td>\n",
              "      <td>1.086538</td>\n",
              "      <td>0.894167</td>\n",
              "      <td>-1.074279</td>\n",
              "      <td>-1.507679</td>\n",
              "      <td>1.107436</td>\n",
              "      <td>0.834728</td>\n",
              "      <td>-2.279090</td>\n",
              "      <td>-0.088955</td>\n",
              "      <td>0.000000</td>\n",
              "      <td>0.635780</td>\n",
              "      <td>-1.576995</td>\n",
              "      <td>-1.739361</td>\n",
              "      <td>0.000000</td>\n",
              "      <td>0.838540</td>\n",
              "      <td>0.915530</td>\n",
              "      <td>0.989704</td>\n",
              "      <td>0.722615</td>\n",
              "      <td>0.905987</td>\n",
              "      <td>0.708509</td>\n",
              "      <td>0.719719</td>\n",
              "    </tr>\n",
              "    <tr>\n",
              "      <th>9</th>\n",
              "      <td>0.0</td>\n",
              "      <td>0.576479</td>\n",
              "      <td>0.533681</td>\n",
              "      <td>0.170204</td>\n",
              "      <td>3.075176</td>\n",
              "      <td>-0.029717</td>\n",
              "      <td>0.881903</td>\n",
              "      <td>0.715911</td>\n",
              "      <td>-1.620384</td>\n",
              "      <td>0.000000</td>\n",
              "      <td>0.868482</td>\n",
              "      <td>0.392495</td>\n",
              "      <td>1.467424</td>\n",
              "      <td>0.000000</td>\n",
              "      <td>0.703890</td>\n",
              "      <td>0.417067</td>\n",
              "      <td>1.004531</td>\n",
              "      <td>2.548224</td>\n",
              "      <td>1.776385</td>\n",
              "      <td>1.042234</td>\n",
              "      <td>-1.188888</td>\n",
              "      <td>3.101961</td>\n",
              "      <td>0.716030</td>\n",
              "      <td>0.846906</td>\n",
              "      <td>0.969172</td>\n",
              "      <td>0.966516</td>\n",
              "      <td>0.858795</td>\n",
              "      <td>0.924644</td>\n",
              "      <td>1.054811</td>\n",
              "    </tr>\n",
              "  </tbody>\n",
              "</table>\n",
              "</div>"
            ],
            "text/plain": [
              "   class_label  lepton_pT  lepton_eta  ...      m_bb     m_wbb    m_wwbb\n",
              "0          1.0   3.937258   -0.357501  ...  1.892444  1.729419  1.589167\n",
              "1          0.0   1.012589    0.857038  ...  0.604004  1.139072  1.007431\n",
              "2          0.0   0.777972    0.777173  ...  0.647029  0.661975  0.624486\n",
              "3          0.0   0.523589    0.351549  ...  1.490392  1.353209  1.449221\n",
              "4          0.0   1.347130   -0.773385  ...  0.756146  1.285646  1.377754\n",
              "5          1.0   0.943412    1.108322  ...  0.587153  1.018512  0.924453\n",
              "6          0.0   0.277991    0.291162  ...  0.605274  0.804355  0.778393\n",
              "7          0.0   1.880784    0.098317  ...  0.274899  0.788867  0.747836\n",
              "8          0.0   0.618754   -1.132780  ...  0.905987  0.708509  0.719719\n",
              "9          0.0   0.576479    0.533681  ...  0.858795  0.924644  1.054811\n",
              "\n",
              "[10 rows x 29 columns]"
            ]
          },
          "metadata": {
            "tags": []
          },
          "execution_count": 61
        }
      ]
    },
    {
      "cell_type": "code",
      "metadata": {
        "colab": {
          "base_uri": "https://localhost:8080/"
        },
        "id": "HB5mYHfxiZlU",
        "outputId": "18fc4dcb-6f1e-45e4-bef3-a4bf727db24e"
      },
      "source": [
        "data2.info"
      ],
      "execution_count": 62,
      "outputs": [
        {
          "output_type": "execute_result",
          "data": {
            "text/plain": [
              "<bound method DataFrame.info of           class_label  lepton_pT  lepton_eta  ...      m_bb     m_wbb    m_wwbb\n",
              "0                 1.0   3.937258   -0.357501  ...  1.892444  1.729419  1.589167\n",
              "1                 0.0   1.012589    0.857038  ...  0.604004  1.139072  1.007431\n",
              "2                 0.0   0.777972    0.777173  ...  0.647029  0.661975  0.624486\n",
              "3                 0.0   0.523589    0.351549  ...  1.490392  1.353209  1.449221\n",
              "4                 0.0   1.347130   -0.773385  ...  0.756146  1.285646  1.377754\n",
              "...               ...        ...         ...  ...       ...       ...       ...\n",
              "10999995          0.0   0.335456    1.694652  ...  1.042277  0.711046  0.595585\n",
              "10999996          1.0   0.801946   -1.499966  ...  0.752371  0.859892  0.803731\n",
              "10999997          1.0   0.967935   -0.201666  ...  0.934406  0.924710  0.781195\n",
              "10999998          1.0   0.668349    0.197662  ...  0.831197  0.675761  0.634038\n",
              "10999999          0.0   1.135754    0.571666  ...  2.014173  1.179402  1.018269\n",
              "\n",
              "[11000000 rows x 29 columns]>"
            ]
          },
          "metadata": {
            "tags": []
          },
          "execution_count": 62
        }
      ]
    },
    {
      "cell_type": "code",
      "metadata": {
        "colab": {
          "base_uri": "https://localhost:8080/"
        },
        "id": "KPIKpUFRrycg",
        "outputId": "606da39b-70e4-4d3b-f233-a526e293bf89"
      },
      "source": [
        "data2.isnull().values.any()"
      ],
      "execution_count": 63,
      "outputs": [
        {
          "output_type": "execute_result",
          "data": {
            "text/plain": [
              "False"
            ]
          },
          "metadata": {
            "tags": []
          },
          "execution_count": 63
        }
      ]
    },
    {
      "cell_type": "code",
      "metadata": {
        "colab": {
          "base_uri": "https://localhost:8080/"
        },
        "id": "e2eyaEOur9jH",
        "outputId": "8d6d2202-514b-4072-8b78-dafaa317ea9c"
      },
      "source": [
        "data2.isna().values.any()"
      ],
      "execution_count": 64,
      "outputs": [
        {
          "output_type": "execute_result",
          "data": {
            "text/plain": [
              "False"
            ]
          },
          "metadata": {
            "tags": []
          },
          "execution_count": 64
        }
      ]
    },
    {
      "cell_type": "code",
      "metadata": {
        "colab": {
          "base_uri": "https://localhost:8080/"
        },
        "id": "R1ru7977sB76",
        "outputId": "d4d6c95e-e073-43ef-ae29-85a0c0499153"
      },
      "source": [
        "data2.shape"
      ],
      "execution_count": 65,
      "outputs": [
        {
          "output_type": "execute_result",
          "data": {
            "text/plain": [
              "(11000000, 29)"
            ]
          },
          "metadata": {
            "tags": []
          },
          "execution_count": 65
        }
      ]
    },
    {
      "cell_type": "code",
      "metadata": {
        "colab": {
          "base_uri": "https://localhost:8080/"
        },
        "id": "0F3NvH4FsBkP",
        "outputId": "532da8be-8498-4e0a-9191-841de3ff3eb6"
      },
      "source": [
        "data2.info(verbose=True)"
      ],
      "execution_count": 66,
      "outputs": [
        {
          "output_type": "stream",
          "text": [
            "<class 'pandas.core.frame.DataFrame'>\n",
            "RangeIndex: 11000000 entries, 0 to 10999999\n",
            "Data columns (total 29 columns):\n",
            " #   Column                    Dtype  \n",
            "---  ------                    -----  \n",
            " 0   class_label               float32\n",
            " 1   lepton_pT                 float32\n",
            " 2   lepton_eta                float32\n",
            " 3   lepton_phi                float32\n",
            " 4   missing_energy_magnitude  float32\n",
            " 5   missing_energy_phi        float32\n",
            " 6   jet_1_pt                  float32\n",
            " 7   jet_1_eta                 float32\n",
            " 8   jet_1_phi                 float32\n",
            " 9   jet_1_b-tag               float32\n",
            " 10  jet_2_pt                  float32\n",
            " 11  jet_2_eta                 float32\n",
            " 12  jet_2_phi                 float32\n",
            " 13  jet_2_b-tag               float32\n",
            " 14  jet_3_pt                  float32\n",
            " 15  jet_3_eta                 float32\n",
            " 16  jet_3_phi                 float32\n",
            " 17  jet_3_b-tag               float32\n",
            " 18  jet_4_pt                  float32\n",
            " 19  jet_4_eta                 float32\n",
            " 20  jet_4_phi                 float32\n",
            " 21  jet_4_b-tag               float32\n",
            " 22  m_jj                      float32\n",
            " 23  m_jjj                     float32\n",
            " 24  m_lv                      float32\n",
            " 25  m_jlv                     float32\n",
            " 26  m_bb                      float32\n",
            " 27  m_wbb                     float32\n",
            " 28  m_wwbb                    float32\n",
            "dtypes: float32(29)\n",
            "memory usage: 1.2 GB\n"
          ],
          "name": "stdout"
        }
      ]
    },
    {
      "cell_type": "code",
      "metadata": {
        "colab": {
          "base_uri": "https://localhost:8080/"
        },
        "id": "pGnMQBaX7i18",
        "outputId": "1e8a253d-bb18-4ff4-b69b-df06879de171"
      },
      "source": [
        "data2.columns"
      ],
      "execution_count": 67,
      "outputs": [
        {
          "output_type": "execute_result",
          "data": {
            "text/plain": [
              "Index(['class_label', 'lepton_pT', 'lepton_eta', 'lepton_phi',\n",
              "       'missing_energy_magnitude', 'missing_energy_phi', 'jet_1_pt',\n",
              "       'jet_1_eta', 'jet_1_phi', 'jet_1_b-tag', 'jet_2_pt', 'jet_2_eta',\n",
              "       'jet_2_phi', 'jet_2_b-tag', 'jet_3_pt', 'jet_3_eta', 'jet_3_phi',\n",
              "       'jet_3_b-tag', 'jet_4_pt', 'jet_4_eta', 'jet_4_phi', 'jet_4_b-tag',\n",
              "       'm_jj', 'm_jjj', 'm_lv', 'm_jlv', 'm_bb', 'm_wbb', 'm_wwbb'],\n",
              "      dtype='object')"
            ]
          },
          "metadata": {
            "tags": []
          },
          "execution_count": 67
        }
      ]
    },
    {
      "cell_type": "code",
      "metadata": {
        "colab": {
          "base_uri": "https://localhost:8080/",
          "height": 308
        },
        "id": "Lepzlda87ith",
        "outputId": "faa5dee3-c764-4821-d1fa-b4c0ef9f5821"
      },
      "source": [
        "data2.describe()"
      ],
      "execution_count": 68,
      "outputs": [
        {
          "output_type": "execute_result",
          "data": {
            "text/html": [
              "<div>\n",
              "<style scoped>\n",
              "    .dataframe tbody tr th:only-of-type {\n",
              "        vertical-align: middle;\n",
              "    }\n",
              "\n",
              "    .dataframe tbody tr th {\n",
              "        vertical-align: top;\n",
              "    }\n",
              "\n",
              "    .dataframe thead th {\n",
              "        text-align: right;\n",
              "    }\n",
              "</style>\n",
              "<table border=\"1\" class=\"dataframe\">\n",
              "  <thead>\n",
              "    <tr style=\"text-align: right;\">\n",
              "      <th></th>\n",
              "      <th>class_label</th>\n",
              "      <th>lepton_pT</th>\n",
              "      <th>lepton_eta</th>\n",
              "      <th>lepton_phi</th>\n",
              "      <th>missing_energy_magnitude</th>\n",
              "      <th>missing_energy_phi</th>\n",
              "      <th>jet_1_pt</th>\n",
              "      <th>jet_1_eta</th>\n",
              "      <th>jet_1_phi</th>\n",
              "      <th>jet_1_b-tag</th>\n",
              "      <th>jet_2_pt</th>\n",
              "      <th>jet_2_eta</th>\n",
              "      <th>jet_2_phi</th>\n",
              "      <th>jet_2_b-tag</th>\n",
              "      <th>jet_3_pt</th>\n",
              "      <th>jet_3_eta</th>\n",
              "      <th>jet_3_phi</th>\n",
              "      <th>jet_3_b-tag</th>\n",
              "      <th>jet_4_pt</th>\n",
              "      <th>jet_4_eta</th>\n",
              "      <th>jet_4_phi</th>\n",
              "      <th>jet_4_b-tag</th>\n",
              "      <th>m_jj</th>\n",
              "      <th>m_jjj</th>\n",
              "      <th>m_lv</th>\n",
              "      <th>m_jlv</th>\n",
              "      <th>m_bb</th>\n",
              "      <th>m_wbb</th>\n",
              "      <th>m_wwbb</th>\n",
              "    </tr>\n",
              "  </thead>\n",
              "  <tbody>\n",
              "    <tr>\n",
              "      <th>count</th>\n",
              "      <td>1.100000e+07</td>\n",
              "      <td>1.100000e+07</td>\n",
              "      <td>1.100000e+07</td>\n",
              "      <td>1.100000e+07</td>\n",
              "      <td>1.100000e+07</td>\n",
              "      <td>1.100000e+07</td>\n",
              "      <td>1.100000e+07</td>\n",
              "      <td>1.100000e+07</td>\n",
              "      <td>1.100000e+07</td>\n",
              "      <td>1.100000e+07</td>\n",
              "      <td>1.100000e+07</td>\n",
              "      <td>1.100000e+07</td>\n",
              "      <td>1.100000e+07</td>\n",
              "      <td>1.100000e+07</td>\n",
              "      <td>1.100000e+07</td>\n",
              "      <td>1.100000e+07</td>\n",
              "      <td>1.100000e+07</td>\n",
              "      <td>1.100000e+07</td>\n",
              "      <td>1.100000e+07</td>\n",
              "      <td>1.100000e+07</td>\n",
              "      <td>1.100000e+07</td>\n",
              "      <td>1.100000e+07</td>\n",
              "      <td>1.100000e+07</td>\n",
              "      <td>1.100000e+07</td>\n",
              "      <td>1.100000e+07</td>\n",
              "      <td>1.100000e+07</td>\n",
              "      <td>1.100000e+07</td>\n",
              "      <td>1.100000e+07</td>\n",
              "      <td>1.100000e+07</td>\n",
              "    </tr>\n",
              "    <tr>\n",
              "      <th>mean</th>\n",
              "      <td>5.299203e-01</td>\n",
              "      <td>1.000006e+00</td>\n",
              "      <td>-8.287805e-06</td>\n",
              "      <td>-1.327974e-05</td>\n",
              "      <td>9.996207e-01</td>\n",
              "      <td>2.614334e-05</td>\n",
              "      <td>1.003295e+00</td>\n",
              "      <td>-2.027965e-05</td>\n",
              "      <td>7.705603e-06</td>\n",
              "      <td>9.535204e-01</td>\n",
              "      <td>1.003200e+00</td>\n",
              "      <td>-1.025921e-05</td>\n",
              "      <td>-2.077427e-05</td>\n",
              "      <td>9.416783e-01</td>\n",
              "      <td>1.001799e+00</td>\n",
              "      <td>1.459506e-05</td>\n",
              "      <td>3.683907e-06</td>\n",
              "      <td>1.027141e+00</td>\n",
              "      <td>9.948559e-01</td>\n",
              "      <td>-5.770412e-06</td>\n",
              "      <td>1.746573e-05</td>\n",
              "      <td>9.804657e-01</td>\n",
              "      <td>1.070788e+00</td>\n",
              "      <td>1.047030e+00</td>\n",
              "      <td>1.045592e+00</td>\n",
              "      <td>1.032710e+00</td>\n",
              "      <td>9.890998e-01</td>\n",
              "      <td>1.054877e+00</td>\n",
              "      <td>9.899282e-01</td>\n",
              "    </tr>\n",
              "    <tr>\n",
              "      <th>std</th>\n",
              "      <td>4.996782e-01</td>\n",
              "      <td>5.607498e-01</td>\n",
              "      <td>1.000165e+00</td>\n",
              "      <td>1.000449e+00</td>\n",
              "      <td>5.949708e-01</td>\n",
              "      <td>1.000417e+00</td>\n",
              "      <td>4.701798e-01</td>\n",
              "      <td>1.000594e+00</td>\n",
              "      <td>9.999521e-01</td>\n",
              "      <td>1.017554e+00</td>\n",
              "      <td>4.949323e-01</td>\n",
              "      <td>1.000358e+00</td>\n",
              "      <td>1.000228e+00</td>\n",
              "      <td>1.082230e+00</td>\n",
              "      <td>4.830460e-01</td>\n",
              "      <td>9.997072e-01</td>\n",
              "      <td>1.000425e+00</td>\n",
              "      <td>1.164580e+00</td>\n",
              "      <td>5.007537e-01</td>\n",
              "      <td>9.988908e-01</td>\n",
              "      <td>1.000424e+00</td>\n",
              "      <td>1.350729e+00</td>\n",
              "      <td>6.625658e-01</td>\n",
              "      <td>3.757045e-01</td>\n",
              "      <td>1.592932e-01</td>\n",
              "      <td>3.937557e-01</td>\n",
              "      <td>5.193437e-01</td>\n",
              "      <td>3.613771e-01</td>\n",
              "      <td>3.121662e-01</td>\n",
              "    </tr>\n",
              "    <tr>\n",
              "      <th>min</th>\n",
              "      <td>0.000000e+00</td>\n",
              "      <td>2.746966e-01</td>\n",
              "      <td>-2.434976e+00</td>\n",
              "      <td>-1.742508e+00</td>\n",
              "      <td>2.370088e-04</td>\n",
              "      <td>-1.743944e+00</td>\n",
              "      <td>1.375024e-01</td>\n",
              "      <td>-2.969725e+00</td>\n",
              "      <td>-1.741237e+00</td>\n",
              "      <td>0.000000e+00</td>\n",
              "      <td>1.889811e-01</td>\n",
              "      <td>-2.913090e+00</td>\n",
              "      <td>-1.742372e+00</td>\n",
              "      <td>0.000000e+00</td>\n",
              "      <td>2.636076e-01</td>\n",
              "      <td>-2.729663e+00</td>\n",
              "      <td>-1.742069e+00</td>\n",
              "      <td>0.000000e+00</td>\n",
              "      <td>3.653542e-01</td>\n",
              "      <td>-2.497265e+00</td>\n",
              "      <td>-1.742691e+00</td>\n",
              "      <td>0.000000e+00</td>\n",
              "      <td>7.507046e-02</td>\n",
              "      <td>1.986757e-01</td>\n",
              "      <td>8.304866e-02</td>\n",
              "      <td>1.320062e-01</td>\n",
              "      <td>4.786215e-02</td>\n",
              "      <td>2.951122e-01</td>\n",
              "      <td>3.307214e-01</td>\n",
              "    </tr>\n",
              "    <tr>\n",
              "      <th>25%</th>\n",
              "      <td>0.000000e+00</td>\n",
              "      <td>5.907533e-01</td>\n",
              "      <td>-7.383225e-01</td>\n",
              "      <td>-8.719308e-01</td>\n",
              "      <td>5.768156e-01</td>\n",
              "      <td>-8.712081e-01</td>\n",
              "      <td>6.789927e-01</td>\n",
              "      <td>-6.872450e-01</td>\n",
              "      <td>-8.680962e-01</td>\n",
              "      <td>0.000000e+00</td>\n",
              "      <td>6.564608e-01</td>\n",
              "      <td>-6.944718e-01</td>\n",
              "      <td>-8.701791e-01</td>\n",
              "      <td>0.000000e+00</td>\n",
              "      <td>6.508527e-01</td>\n",
              "      <td>-6.998083e-01</td>\n",
              "      <td>-8.711343e-01</td>\n",
              "      <td>0.000000e+00</td>\n",
              "      <td>6.177673e-01</td>\n",
              "      <td>-7.141902e-01</td>\n",
              "      <td>-8.714789e-01</td>\n",
              "      <td>0.000000e+00</td>\n",
              "      <td>7.906095e-01</td>\n",
              "      <td>8.462266e-01</td>\n",
              "      <td>9.857525e-01</td>\n",
              "      <td>7.675732e-01</td>\n",
              "      <td>6.738168e-01</td>\n",
              "      <td>8.193964e-01</td>\n",
              "      <td>7.703901e-01</td>\n",
              "    </tr>\n",
              "    <tr>\n",
              "      <th>50%</th>\n",
              "      <td>1.000000e+00</td>\n",
              "      <td>8.533714e-01</td>\n",
              "      <td>-5.415563e-05</td>\n",
              "      <td>-2.410638e-04</td>\n",
              "      <td>8.916277e-01</td>\n",
              "      <td>2.125454e-04</td>\n",
              "      <td>8.948193e-01</td>\n",
              "      <td>-2.543566e-05</td>\n",
              "      <td>5.813991e-05</td>\n",
              "      <td>1.086538e+00</td>\n",
              "      <td>8.901377e-01</td>\n",
              "      <td>6.027267e-05</td>\n",
              "      <td>3.514990e-04</td>\n",
              "      <td>0.000000e+00</td>\n",
              "      <td>8.972494e-01</td>\n",
              "      <td>1.728937e-04</td>\n",
              "      <td>-7.519117e-04</td>\n",
              "      <td>0.000000e+00</td>\n",
              "      <td>8.682333e-01</td>\n",
              "      <td>3.721330e-04</td>\n",
              "      <td>-2.642369e-04</td>\n",
              "      <td>0.000000e+00</td>\n",
              "      <td>8.949304e-01</td>\n",
              "      <td>9.506853e-01</td>\n",
              "      <td>9.897798e-01</td>\n",
              "      <td>9.165110e-01</td>\n",
              "      <td>8.733798e-01</td>\n",
              "      <td>9.473447e-01</td>\n",
              "      <td>8.719701e-01</td>\n",
              "    </tr>\n",
              "    <tr>\n",
              "      <th>75%</th>\n",
              "      <td>1.000000e+00</td>\n",
              "      <td>1.236226e+00</td>\n",
              "      <td>7.382142e-01</td>\n",
              "      <td>8.709940e-01</td>\n",
              "      <td>1.293056e+00</td>\n",
              "      <td>8.714708e-01</td>\n",
              "      <td>1.170740e+00</td>\n",
              "      <td>6.871941e-01</td>\n",
              "      <td>8.683126e-01</td>\n",
              "      <td>2.173076e+00</td>\n",
              "      <td>1.201875e+00</td>\n",
              "      <td>6.945924e-01</td>\n",
              "      <td>8.698727e-01</td>\n",
              "      <td>2.214872e+00</td>\n",
              "      <td>1.221798e+00</td>\n",
              "      <td>7.001541e-01</td>\n",
              "      <td>8.713947e-01</td>\n",
              "      <td>2.548224e+00</td>\n",
              "      <td>1.220930e+00</td>\n",
              "      <td>7.141017e-01</td>\n",
              "      <td>8.716055e-01</td>\n",
              "      <td>3.101961e+00</td>\n",
              "      <td>1.024730e+00</td>\n",
              "      <td>1.083493e+00</td>\n",
              "      <td>1.020528e+00</td>\n",
              "      <td>1.142226e+00</td>\n",
              "      <td>1.138439e+00</td>\n",
              "      <td>1.140458e+00</td>\n",
              "      <td>1.059248e+00</td>\n",
              "    </tr>\n",
              "    <tr>\n",
              "      <th>max</th>\n",
              "      <td>1.000000e+00</td>\n",
              "      <td>1.209891e+01</td>\n",
              "      <td>2.434868e+00</td>\n",
              "      <td>1.743236e+00</td>\n",
              "      <td>1.539682e+01</td>\n",
              "      <td>1.743257e+00</td>\n",
              "      <td>9.940391e+00</td>\n",
              "      <td>2.969674e+00</td>\n",
              "      <td>1.741454e+00</td>\n",
              "      <td>2.173076e+00</td>\n",
              "      <td>1.164708e+01</td>\n",
              "      <td>2.913210e+00</td>\n",
              "      <td>1.743175e+00</td>\n",
              "      <td>2.214872e+00</td>\n",
              "      <td>1.470899e+01</td>\n",
              "      <td>2.730009e+00</td>\n",
              "      <td>1.742884e+00</td>\n",
              "      <td>2.548224e+00</td>\n",
              "      <td>1.288257e+01</td>\n",
              "      <td>2.498009e+00</td>\n",
              "      <td>1.743372e+00</td>\n",
              "      <td>3.101961e+00</td>\n",
              "      <td>4.019237e+01</td>\n",
              "      <td>2.037278e+01</td>\n",
              "      <td>7.992739e+00</td>\n",
              "      <td>1.426244e+01</td>\n",
              "      <td>1.776285e+01</td>\n",
              "      <td>1.149652e+01</td>\n",
              "      <td>8.374498e+00</td>\n",
              "    </tr>\n",
              "  </tbody>\n",
              "</table>\n",
              "</div>"
            ],
            "text/plain": [
              "        class_label     lepton_pT  ...         m_wbb        m_wwbb\n",
              "count  1.100000e+07  1.100000e+07  ...  1.100000e+07  1.100000e+07\n",
              "mean   5.299203e-01  1.000006e+00  ...  1.054877e+00  9.899282e-01\n",
              "std    4.996782e-01  5.607498e-01  ...  3.613771e-01  3.121662e-01\n",
              "min    0.000000e+00  2.746966e-01  ...  2.951122e-01  3.307214e-01\n",
              "25%    0.000000e+00  5.907533e-01  ...  8.193964e-01  7.703901e-01\n",
              "50%    1.000000e+00  8.533714e-01  ...  9.473447e-01  8.719701e-01\n",
              "75%    1.000000e+00  1.236226e+00  ...  1.140458e+00  1.059248e+00\n",
              "max    1.000000e+00  1.209891e+01  ...  1.149652e+01  8.374498e+00\n",
              "\n",
              "[8 rows x 29 columns]"
            ]
          },
          "metadata": {
            "tags": []
          },
          "execution_count": 68
        }
      ]
    },
    {
      "cell_type": "code",
      "metadata": {
        "id": "zHHFadyDamrR"
      },
      "source": [
        "from sklearn.preprocessing import MinMaxScaler\n",
        "\n",
        "scaler = MinMaxScaler(feature_range=(-1, 1))\n",
        "scaled_train = scaler.fit_transform(data2)\n"
      ],
      "execution_count": 71,
      "outputs": []
    },
    {
      "cell_type": "code",
      "metadata": {
        "colab": {
          "base_uri": "https://localhost:8080/"
        },
        "id": "7YQFOhNs7ilJ",
        "outputId": "c73c8b8f-f9be-4168-9fd4-d0434a85da98"
      },
      "source": [
        "try: \n",
        "     tpu = tf.distribute.cluster_resolver.TPUClusterResolver.connect() # TPU detection\n",
        "     strategy = tf.distribute.TPUStrategy(tpu)\n",
        "except ValueError: # detect GPUs\n",
        "     strategy = tf.distribute.get_strategy() # default strategy that works on CPU and single GPU\n",
        "print(\"Number of accelerators: \", strategy.num_replicas_in_sync)"
      ],
      "execution_count": 72,
      "outputs": [
        {
          "output_type": "stream",
          "text": [
            "Number of accelerators:  1\n"
          ],
          "name": "stdout"
        }
      ]
    },
    {
      "cell_type": "code",
      "metadata": {
        "id": "bBglUHbM7ieL"
      },
      "source": [
        "AUTO = tf.data.experimental.AUTOTUNE"
      ],
      "execution_count": 73,
      "outputs": []
    },
    {
      "cell_type": "code",
      "metadata": {
        "colab": {
          "base_uri": "https://localhost:8080/",
          "height": 281
        },
        "id": "s4DHH0GBFDzm",
        "outputId": "7e0ad6cd-43b5-4e81-8231-37ec8f6c845e"
      },
      "source": [
        "sns.barplot(x = data2['class_label'].value_counts().index, y = data2['class_label'].value_counts().values)\n",
        "plt.title('Label counts')\n",
        "plt.show()"
      ],
      "execution_count": 75,
      "outputs": [
        {
          "output_type": "display_data",
          "data": {
            "image/png": "[encoded data removed]",
            "text/plain": [
              "<Figure size 432x288 with 1 Axes>"
            ]
          },
          "metadata": {
            "tags": [],
            "needs_background": "light"
          }
        }
      ]
    },
    {
      "cell_type": "code",
      "metadata": {
        "colab": {
          "base_uri": "https://localhost:8080/"
        },
        "id": "P5SHGwTRFH8N",
        "outputId": "4991a30f-aafa-427d-c546-05c826e7e38a"
      },
      "source": [
        "y=data2.class_label\n",
        "y"
      ],
      "execution_count": 76,
      "outputs": [
        {
          "output_type": "execute_result",
          "data": {
            "text/plain": [
              "0           1.0\n",
              "1           0.0\n",
              "2           0.0\n",
              "3           0.0\n",
              "4           0.0\n",
              "           ... \n",
              "10999995    0.0\n",
              "10999996    1.0\n",
              "10999997    1.0\n",
              "10999998    1.0\n",
              "10999999    0.0\n",
              "Name: class_label, Length: 11000000, dtype: float32"
            ]
          },
          "metadata": {
            "tags": []
          },
          "execution_count": 76
        }
      ]
    },
    {
      "cell_type": "code",
      "metadata": {
        "colab": {
          "base_uri": "https://localhost:8080/"
        },
        "id": "IcZ5ItVGkd-G",
        "outputId": "c055fc0d-b0ac-4d44-de99-b4a4f1a583fd"
      },
      "source": [
        "data2.drop(['class_label'],inplace=True,axis=1)"
      ],
      "execution_count": 77,
      "outputs": [
        {
          "output_type": "stream",
          "text": [
            "/usr/local/lib/python3.7/dist-packages/pandas/core/frame.py:4174: SettingWithCopyWarning: \n",
            "A value is trying to be set on a copy of a slice from a DataFrame\n",
            "\n",
            "See the caveats in the documentation: https://pandas.pydata.org/pandas-docs/stable/user_guide/indexing.html#returning-a-view-versus-a-copy\n",
            "  errors=errors,\n"
          ],
          "name": "stderr"
        }
      ]
    },
    {
      "cell_type": "code",
      "metadata": {
        "colab": {
          "base_uri": "https://localhost:8080/",
          "height": 235
        },
        "id": "5d6UwJ2Sjd8s",
        "outputId": "0c43ef2e-277b-412e-ae0b-511fa76cce63"
      },
      "source": [
        "data2.head()"
      ],
      "execution_count": 78,
      "outputs": [
        {
          "output_type": "execute_result",
          "data": {
            "text/html": [
              "<div>\n",
              "<style scoped>\n",
              "    .dataframe tbody tr th:only-of-type {\n",
              "        vertical-align: middle;\n",
              "    }\n",
              "\n",
              "    .dataframe tbody tr th {\n",
              "        vertical-align: top;\n",
              "    }\n",
              "\n",
              "    .dataframe thead th {\n",
              "        text-align: right;\n",
              "    }\n",
              "</style>\n",
              "<table border=\"1\" class=\"dataframe\">\n",
              "  <thead>\n",
              "    <tr style=\"text-align: right;\">\n",
              "      <th></th>\n",
              "      <th>lepton_pT</th>\n",
              "      <th>lepton_eta</th>\n",
              "      <th>lepton_phi</th>\n",
              "      <th>missing_energy_magnitude</th>\n",
              "      <th>missing_energy_phi</th>\n",
              "      <th>jet_1_pt</th>\n",
              "      <th>jet_1_eta</th>\n",
              "      <th>jet_1_phi</th>\n",
              "      <th>jet_1_b-tag</th>\n",
              "      <th>jet_2_pt</th>\n",
              "      <th>jet_2_eta</th>\n",
              "      <th>jet_2_phi</th>\n",
              "      <th>jet_2_b-tag</th>\n",
              "      <th>jet_3_pt</th>\n",
              "      <th>jet_3_eta</th>\n",
              "      <th>jet_3_phi</th>\n",
              "      <th>jet_3_b-tag</th>\n",
              "      <th>jet_4_pt</th>\n",
              "      <th>jet_4_eta</th>\n",
              "      <th>jet_4_phi</th>\n",
              "      <th>jet_4_b-tag</th>\n",
              "      <th>m_jj</th>\n",
              "      <th>m_jjj</th>\n",
              "      <th>m_lv</th>\n",
              "      <th>m_jlv</th>\n",
              "      <th>m_bb</th>\n",
              "      <th>m_wbb</th>\n",
              "      <th>m_wwbb</th>\n",
              "    </tr>\n",
              "  </thead>\n",
              "  <tbody>\n",
              "    <tr>\n",
              "      <th>0</th>\n",
              "      <td>3.937258</td>\n",
              "      <td>-0.357501</td>\n",
              "      <td>0.217922</td>\n",
              "      <td>0.318690</td>\n",
              "      <td>0.674522</td>\n",
              "      <td>2.171000</td>\n",
              "      <td>1.707131</td>\n",
              "      <td>-1.574925</td>\n",
              "      <td>0.000000</td>\n",
              "      <td>1.768692</td>\n",
              "      <td>-1.488084</td>\n",
              "      <td>-0.821354</td>\n",
              "      <td>2.214872</td>\n",
              "      <td>1.235145</td>\n",
              "      <td>-0.176415</td>\n",
              "      <td>1.211447</td>\n",
              "      <td>2.548224</td>\n",
              "      <td>1.780036</td>\n",
              "      <td>0.204414</td>\n",
              "      <td>0.336670</td>\n",
              "      <td>0.000000</td>\n",
              "      <td>0.925134</td>\n",
              "      <td>1.044219</td>\n",
              "      <td>0.997165</td>\n",
              "      <td>2.035658</td>\n",
              "      <td>1.892444</td>\n",
              "      <td>1.729419</td>\n",
              "      <td>1.589167</td>\n",
              "    </tr>\n",
              "    <tr>\n",
              "      <th>1</th>\n",
              "      <td>1.012589</td>\n",
              "      <td>0.857038</td>\n",
              "      <td>0.342766</td>\n",
              "      <td>0.531022</td>\n",
              "      <td>-0.300299</td>\n",
              "      <td>0.779394</td>\n",
              "      <td>1.168446</td>\n",
              "      <td>-0.876966</td>\n",
              "      <td>0.000000</td>\n",
              "      <td>1.006347</td>\n",
              "      <td>-0.322436</td>\n",
              "      <td>1.167261</td>\n",
              "      <td>2.214872</td>\n",
              "      <td>0.864408</td>\n",
              "      <td>0.616411</td>\n",
              "      <td>1.513778</td>\n",
              "      <td>2.548224</td>\n",
              "      <td>1.232127</td>\n",
              "      <td>1.884218</td>\n",
              "      <td>-0.713329</td>\n",
              "      <td>0.000000</td>\n",
              "      <td>0.877970</td>\n",
              "      <td>1.034208</td>\n",
              "      <td>0.986979</td>\n",
              "      <td>1.280738</td>\n",
              "      <td>0.604004</td>\n",
              "      <td>1.139072</td>\n",
              "      <td>1.007431</td>\n",
              "    </tr>\n",
              "    <tr>\n",
              "      <th>2</th>\n",
              "      <td>0.777972</td>\n",
              "      <td>0.777173</td>\n",
              "      <td>-0.468544</td>\n",
              "      <td>0.527515</td>\n",
              "      <td>-1.586283</td>\n",
              "      <td>1.395361</td>\n",
              "      <td>1.047638</td>\n",
              "      <td>-0.967329</td>\n",
              "      <td>2.173076</td>\n",
              "      <td>1.788333</td>\n",
              "      <td>1.281302</td>\n",
              "      <td>0.962529</td>\n",
              "      <td>0.000000</td>\n",
              "      <td>0.740244</td>\n",
              "      <td>0.854896</td>\n",
              "      <td>0.475868</td>\n",
              "      <td>0.000000</td>\n",
              "      <td>0.513833</td>\n",
              "      <td>-0.470173</td>\n",
              "      <td>-0.918646</td>\n",
              "      <td>0.000000</td>\n",
              "      <td>0.856452</td>\n",
              "      <td>1.114653</td>\n",
              "      <td>0.988671</td>\n",
              "      <td>0.546121</td>\n",
              "      <td>0.647029</td>\n",
              "      <td>0.661975</td>\n",
              "      <td>0.624486</td>\n",
              "    </tr>\n",
              "    <tr>\n",
              "      <th>3</th>\n",
              "      <td>0.523589</td>\n",
              "      <td>0.351549</td>\n",
              "      <td>1.295463</td>\n",
              "      <td>3.095207</td>\n",
              "      <td>-1.571370</td>\n",
              "      <td>2.083423</td>\n",
              "      <td>-0.300065</td>\n",
              "      <td>-0.071457</td>\n",
              "      <td>0.000000</td>\n",
              "      <td>1.090576</td>\n",
              "      <td>-0.568193</td>\n",
              "      <td>1.698233</td>\n",
              "      <td>2.214872</td>\n",
              "      <td>2.105349</td>\n",
              "      <td>-0.262889</td>\n",
              "      <td>0.419840</td>\n",
              "      <td>2.548224</td>\n",
              "      <td>0.549370</td>\n",
              "      <td>-1.880143</td>\n",
              "      <td>-0.916427</td>\n",
              "      <td>0.000000</td>\n",
              "      <td>2.178429</td>\n",
              "      <td>1.576881</td>\n",
              "      <td>0.988934</td>\n",
              "      <td>0.687118</td>\n",
              "      <td>1.490392</td>\n",
              "      <td>1.353209</td>\n",
              "      <td>1.449221</td>\n",
              "    </tr>\n",
              "    <tr>\n",
              "      <th>4</th>\n",
              "      <td>1.347130</td>\n",
              "      <td>-0.773385</td>\n",
              "      <td>0.635733</td>\n",
              "      <td>0.923515</td>\n",
              "      <td>0.520972</td>\n",
              "      <td>1.348275</td>\n",
              "      <td>1.789320</td>\n",
              "      <td>1.459277</td>\n",
              "      <td>0.000000</td>\n",
              "      <td>0.773299</td>\n",
              "      <td>1.304615</td>\n",
              "      <td>-1.277979</td>\n",
              "      <td>0.000000</td>\n",
              "      <td>1.107293</td>\n",
              "      <td>0.737474</td>\n",
              "      <td>-0.494467</td>\n",
              "      <td>2.548224</td>\n",
              "      <td>0.925677</td>\n",
              "      <td>-0.728348</td>\n",
              "      <td>-0.770485</td>\n",
              "      <td>3.101961</td>\n",
              "      <td>1.444574</td>\n",
              "      <td>1.466996</td>\n",
              "      <td>0.991051</td>\n",
              "      <td>0.848341</td>\n",
              "      <td>0.756146</td>\n",
              "      <td>1.285646</td>\n",
              "      <td>1.377754</td>\n",
              "    </tr>\n",
              "  </tbody>\n",
              "</table>\n",
              "</div>"
            ],
            "text/plain": [
              "   lepton_pT  lepton_eta  lepton_phi  ...      m_bb     m_wbb    m_wwbb\n",
              "0   3.937258   -0.357501    0.217922  ...  1.892444  1.729419  1.589167\n",
              "1   1.012589    0.857038    0.342766  ...  0.604004  1.139072  1.007431\n",
              "2   0.777972    0.777173   -0.468544  ...  0.647029  0.661975  0.624486\n",
              "3   0.523589    0.351549    1.295463  ...  1.490392  1.353209  1.449221\n",
              "4   1.347130   -0.773385    0.635733  ...  0.756146  1.285646  1.377754\n",
              "\n",
              "[5 rows x 28 columns]"
            ]
          },
          "metadata": {
            "tags": []
          },
          "execution_count": 78
        }
      ]
    },
    {
      "cell_type": "markdown",
      "metadata": {
        "id": "ffXpAFrZjdwx"
      },
      "source": [
        ""
      ]
    },
    {
      "cell_type": "code",
      "metadata": {
        "id": "R80oOmvxFD3V"
      },
      "source": [
        "from sklearn.model_selection import train_test_split\n",
        "x_train, x_test, y_train, y_test = train_test_split(data2,y, test_size=0.30, random_state=123)"
      ],
      "execution_count": 79,
      "outputs": []
    },
    {
      "cell_type": "code",
      "metadata": {
        "colab": {
          "base_uri": "https://localhost:8080/"
        },
        "id": "E-KDAnfSjK_A",
        "outputId": "12b9cfb7-9041-4322-9879-1a7d56b36324"
      },
      "source": [
        "y_train.shape"
      ],
      "execution_count": 80,
      "outputs": [
        {
          "output_type": "execute_result",
          "data": {
            "text/plain": [
              "(7700000,)"
            ]
          },
          "metadata": {
            "tags": []
          },
          "execution_count": 80
        }
      ]
    },
    {
      "cell_type": "code",
      "metadata": {
        "colab": {
          "base_uri": "https://localhost:8080/"
        },
        "id": "4_rXPZtCiuf9",
        "outputId": "c27866c8-7b9a-4582-9d30-5573594d0fec"
      },
      "source": [
        "x_train.shape"
      ],
      "execution_count": 81,
      "outputs": [
        {
          "output_type": "execute_result",
          "data": {
            "text/plain": [
              "(7700000, 28)"
            ]
          },
          "metadata": {
            "tags": []
          },
          "execution_count": 81
        }
      ]
    },
    {
      "cell_type": "code",
      "metadata": {
        "id": "0glRTAt8Xg0g"
      },
      "source": [
        "# import tensorflow as tf\n",
        "from tensorflow.keras import layers \n",
        "# from tensorflow.keras.regularizers import l2\n",
        "from tensorflow.keras import initializers\n",
        "# from sklearn import datasets\n",
        "# import sklearn"
      ],
      "execution_count": 82,
      "outputs": []
    },
    {
      "cell_type": "markdown",
      "metadata": {
        "id": "XVWxt-SOvueO"
      },
      "source": [
        "To run NN on 1 million rows we have tried from 3-5 Dense layers and we find out best performance to get accuracy can be achieved by having 'Four' layers and by manipulating number of nodes from 100-300 we learned sequesnce of 200-100-100-1 nodes in the layers performed the best score. We triedn gelu, sigmoid, tanh, relu but best srquences of models was achived 'tanh- tanh-tanh-sigmoid'."
      ]
    },
    {
      "cell_type": "markdown",
      "metadata": {
        "id": "EP_FszM1kSXH"
      },
      "source": [
        "For whole dataset we ended up using 1000-1000-500-500-100-1 nodes for 6 layers and having drop outs of 0.5 for model tuning purpose. we used 'tanh' for first five layers and signmoid for the last one."
      ]
    },
    {
      "cell_type": "code",
      "metadata": {
        "id": "wB8GvvcCFDLR"
      },
      "source": [
        "seed = 42\n",
        "first_layer_init = initializers.RandomNormal(\n",
        "    mean=0.0, stddev=0.1, seed=seed\n",
        ")\n",
        "hidden_layer_init = initializers.RandomNormal(\n",
        "    mean=0.0, stddev=0.05, seed=seed\n",
        ")\n",
        "output_layer_init = initializers.RandomNormal(\n",
        "    mean=0.0, stddev=0.001, seed=seed\n",
        ")\n",
        "model = tf.keras.Sequential()\n",
        "model.add(tf.keras.Input(shape=(28,)))\n",
        "model.add(layers.Dense(1000,activation='tanh'))  \n",
        "keras.layers.Dropout(0.5),\n",
        "model.add(layers.Dense(1000,activation='tanh'))  \n",
        "keras.layers.Dropout(0.5),\n",
        "model.add(layers.Dense(500,activation='tanh')),\n",
        "keras.layers.Dropout(0.5),\n",
        "model.add(layers.Dense(500,activation='tanh')),\n",
        "keras.layers.Dropout(0.5),\n",
        "model.add(layers.Dense(100,activation='tanh')),\n",
        "keras.layers.Dropout(0.5),\n",
        "model.add(layers.Dense(1, activation='sigmoid')) "
      ],
      "execution_count": 89,
      "outputs": []
    },
    {
      "cell_type": "code",
      "metadata": {
        "id": "9aQu-uEXFDIZ"
      },
      "source": [
        "auc_score = tf.keras.metrics.AUC()\n",
        "model.compile(optimizer='adam',\n",
        "              loss='binary_crossentropy',\n",
        "              metrics=['binary_crossentropy','mean_absolute_error','accuracy',auc_score])"
      ],
      "execution_count": 90,
      "outputs": []
    },
    {
      "cell_type": "code",
      "metadata": {
        "id": "6MUrZJnmT6IC"
      },
      "source": [
        "from tensorflow.keras.callbacks import ModelCheckpoint, ReduceLROnPlateau, EarlyStopping"
      ],
      "execution_count": 91,
      "outputs": []
    },
    {
      "cell_type": "code",
      "metadata": {
        "id": "7G75xsRaU2EJ"
      },
      "source": [
        "callbacks = [EarlyStopping( patience=1)]\n",
        "                            "
      ],
      "execution_count": 92,
      "outputs": []
    },
    {
      "cell_type": "code",
      "metadata": {
        "colab": {
          "base_uri": "https://localhost:8080/"
        },
        "id": "yB7JBjGBFDFg",
        "outputId": "8e28aca4-c459-4ed1-f2ba-b2aa85f6d897"
      },
      "source": [
        " \n",
        "model.fit(x_train,y_train, epochs=10, validation_data=(x_test,y_test), batch_size=50,callbacks=callbacks)"
      ],
      "execution_count": 94,
      "outputs": [
        {
          "output_type": "stream",
          "text": [
            "Epoch 1/10\n",
            "154000/154000 [==============================] - 1094s 7ms/step - loss: 0.5991 - binary_crossentropy: 0.5991 - mean_absolute_error: 0.4114 - accuracy: 0.6727 - auc_4: 0.7375 - val_loss: 0.5771 - val_binary_crossentropy: 0.5771 - val_mean_absolute_error: 0.3886 - val_accuracy: 0.6973 - val_auc_4: 0.7664\n",
            "Epoch 2/10\n",
            "154000/154000 [==============================] - 1093s 7ms/step - loss: 0.5737 - binary_crossentropy: 0.5737 - mean_absolute_error: 0.3896 - accuracy: 0.6977 - auc_4: 0.7673 - val_loss: 0.5693 - val_binary_crossentropy: 0.5693 - val_mean_absolute_error: 0.3882 - val_accuracy: 0.7014 - val_auc_4: 0.7730\n",
            "Epoch 3/10\n",
            "154000/154000 [==============================] - 1091s 7ms/step - loss: 0.5713 - binary_crossentropy: 0.5713 - mean_absolute_error: 0.3876 - accuracy: 0.7004 - auc_4: 0.7700 - val_loss: 0.5716 - val_binary_crossentropy: 0.5716 - val_mean_absolute_error: 0.3818 - val_accuracy: 0.7033 - val_auc_4: 0.7731\n"
          ],
          "name": "stdout"
        },
        {
          "output_type": "execute_result",
          "data": {
            "text/plain": [
              "<tensorflow.python.keras.callbacks.History at 0x7f38ca920c50>"
            ]
          },
          "metadata": {
            "tags": []
          },
          "execution_count": 94
        }
      ]
    },
    {
      "cell_type": "code",
      "metadata": {
        "colab": {
          "base_uri": "https://localhost:8080/"
        },
        "id": "IcGdrCUdsEp0",
        "outputId": "006a2006-7aa0-4654-b7d2-4b5907a8d7ba"
      },
      "source": [
        "model.summary()"
      ],
      "execution_count": 95,
      "outputs": [
        {
          "output_type": "stream",
          "text": [
            "Model: \"sequential_4\"\n",
            "_________________________________________________________________\n",
            "Layer (type)                 Output Shape              Param #   \n",
            "=================================================================\n",
            "dense_18 (Dense)             (None, 1000)              29000     \n",
            "_________________________________________________________________\n",
            "dense_19 (Dense)             (None, 1000)              1001000   \n",
            "_________________________________________________________________\n",
            "dense_20 (Dense)             (None, 500)               500500    \n",
            "_________________________________________________________________\n",
            "dense_21 (Dense)             (None, 500)               250500    \n",
            "_________________________________________________________________\n",
            "dense_22 (Dense)             (None, 100)               50100     \n",
            "_________________________________________________________________\n",
            "dense_23 (Dense)             (None, 1)                 101       \n",
            "=================================================================\n",
            "Total params: 1,831,201\n",
            "Trainable params: 1,831,201\n",
            "Non-trainable params: 0\n",
            "_________________________________________________________________\n"
          ],
          "name": "stdout"
        }
      ]
    },
    {
      "cell_type": "code",
      "metadata": {
        "colab": {
          "base_uri": "https://localhost:8080/"
        },
        "id": "6AbpakylsEnE",
        "outputId": "29774504-b0f8-460d-9e9c-34762474e7c5"
      },
      "source": [
        "model.history.history"
      ],
      "execution_count": 96,
      "outputs": [
        {
          "output_type": "execute_result",
          "data": {
            "text/plain": [
              "{'accuracy': [0.6727168560028076, 0.6976591944694519, 0.7004002332687378],\n",
              " 'auc_4': [0.7374814748764038, 0.7672718167304993, 0.7699735164642334],\n",
              " 'binary_crossentropy': [0.5990597009658813,\n",
              "  0.5737413167953491,\n",
              "  0.5712922215461731],\n",
              " 'loss': [0.5990597009658813, 0.5737413167953491, 0.5712922811508179],\n",
              " 'mean_absolute_error': [0.4113905429840088,\n",
              "  0.3896031081676483,\n",
              "  0.38757818937301636],\n",
              " 'val_accuracy': [0.6972597241401672, 0.7013903260231018, 0.7033296823501587],\n",
              " 'val_auc_4': [0.7663644552230835, 0.7729586958885193, 0.7731026411056519],\n",
              " 'val_binary_crossentropy': [0.5771429538726807,\n",
              "  0.5693021416664124,\n",
              "  0.5715816020965576],\n",
              " 'val_loss': [0.5771429538726807, 0.5693021416664124, 0.5715816020965576],\n",
              " 'val_mean_absolute_error': [0.3886156678199768,\n",
              "  0.38823139667510986,\n",
              "  0.3818157911300659]}"
            ]
          },
          "metadata": {
            "tags": []
          },
          "execution_count": 96
        }
      ]
    },
    {
      "cell_type": "code",
      "metadata": {
        "colab": {
          "base_uri": "https://localhost:8080/",
          "height": 281
        },
        "id": "Mf_YQtvmsEkL",
        "outputId": "92cdb9f6-5efc-4157-e070-e5b6519a0473"
      },
      "source": [
        "train_loss = model.history.history['loss']\n",
        "val_loss = model.history.history['val_loss']\n",
        "plt.plot(train_loss,label='train_loss')\n",
        "plt.plot(val_loss,label='valid_loss')\n",
        "plt.title(\"Higgs\")\n",
        "legend = plt.legend(loc='upper center', shadow=True, fontsize='x-large')\n",
        "plt.show();"
      ],
      "execution_count": 97,
      "outputs": [
        {
          "output_type": "display_data",
          "data": {
            "image/png": "[encoded data removed]",
            "text/plain": [
              "<Figure size 432x288 with 1 Axes>"
            ]
          },
          "metadata": {
            "tags": [],
            "needs_background": "light"
          }
        }
      ]
    },
    {
      "cell_type": "code",
      "metadata": {
        "id": "3ppxB0o3FC6L"
      },
      "source": [
        ""
      ],
      "execution_count": null,
      "outputs": []
    },
    {
      "cell_type": "code",
      "metadata": {
        "id": "6Se1lwadFC3R"
      },
      "source": [
        ""
      ],
      "execution_count": null,
      "outputs": []
    },
    {
      "cell_type": "code",
      "metadata": {
        "id": "CuX2PBuHFC0R"
      },
      "source": [
        ""
      ],
      "execution_count": null,
      "outputs": []
    },
    {
      "cell_type": "code",
      "metadata": {
        "id": "otKy_B3EFCxP"
      },
      "source": [
        ""
      ],
      "execution_count": null,
      "outputs": []
    },
    {
      "cell_type": "code",
      "metadata": {
        "id": "F2SaQD8KFCuX"
      },
      "source": [
        ""
      ],
      "execution_count": null,
      "outputs": []
    },
    {
      "cell_type": "code",
      "metadata": {
        "id": "7-hpNW87FCru"
      },
      "source": [
        ""
      ],
      "execution_count": null,
      "outputs": []
    },
    {
      "cell_type": "code",
      "metadata": {
        "id": "Sv6t9-bcFCol"
      },
      "source": [
        ""
      ],
      "execution_count": null,
      "outputs": []
    },
    {
      "cell_type": "code",
      "metadata": {
        "id": "gHaUEk7DFCgf"
      },
      "source": [
        ""
      ],
      "execution_count": null,
      "outputs": []
    }
  ]
}